{
 "cells": [
  {
   "attachments": {},
   "cell_type": "markdown",
   "metadata": {},
   "source": [
    "## Import 라인"
   ]
  },
  {
   "cell_type": "code",
   "execution_count": 70,
   "metadata": {},
   "outputs": [],
   "source": [
    "%matplotlib inline\n",
    "\n",
    "import os\n",
    "import numpy as np\n",
    "import keras\n",
    "import matplotlib.pyplot as plt \n",
    "from keras.utils.np_utils import to_categorical\n",
    "from keras.models import Sequential, Model\n",
    "from keras.layers import Input, Dense,Conv2D,Flatten,MaxPooling2D,\\\n",
    "                            AveragePooling2D,Dropout, Resizing, BatchNormalization\n",
    "from keras.callbacks import EarlyStopping, ModelCheckpoint, ReduceLROnPlateau, \\\n",
    "                            LearningRateScheduler\n",
    "from keras.optimizers import Adam , RMSprop \n",
    "from sklearn.model_selection import train_test_split\n",
    "from keras import regularizers\n",
    "from keras.datasets import cifar10"
   ]
  },
  {
   "attachments": {},
   "cell_type": "markdown",
   "metadata": {},
   "source": [
    "## LeNet-5 코드 찾아서 실습"
   ]
  },
  {
   "cell_type": "code",
   "execution_count": 44,
   "metadata": {},
   "outputs": [],
   "source": [
    "(x_train,y_train),(x_test,y_test) = keras.datasets.mnist.load_data()\n",
    "\n",
    "x_train=x_train.reshape(-1,28,28,1)\n",
    "x_test=x_test.reshape(-1,28,28,1)\n",
    "\n",
    "x_train, x_val, y_train, y_val = train_test_split(x_train,y_train,test_size=0.2)\n",
    "\n",
    "x_train=x_train/255.0\n",
    "x_val=x_val/255.0\n",
    "x_test=x_test/255.0"
   ]
  },
  {
   "cell_type": "code",
   "execution_count": 56,
   "metadata": {},
   "outputs": [],
   "source": [
    "class LeNet(Sequential):\n",
    "  def __init__(self, num_classes):\n",
    "    \"\"\"_summary_\n",
    "\n",
    "    Args:\n",
    "        num_classes (_type_): label의 답 개수\n",
    "    \"\"\"\n",
    "    super().__init__()\n",
    "    self.add(Conv2D(6,5,strides=1,activation='relu',input_shape=(28,28,1),padding='same'))\n",
    "    self.add(AveragePooling2D(2,strides=2))\n",
    "    self.add(Conv2D(16,5,strides=1,activation='relu'))\n",
    "    self.add(AveragePooling2D(2,strides=2))\n",
    "    self.add(Conv2D(120,5,strides=1,activation='relu'))\n",
    "    self.add(Flatten())\n",
    "    self.add(Dense(84,activation='tanh'))\n",
    "    self.add(Dense(num_classes,activation='softmax'))\n",
    "    self.compile(optimizer='adam',\n",
    "                 loss='sparse_categorical_crossentropy',\n",
    "                 metrics='accuracy')"
   ]
  },
  {
   "cell_type": "code",
   "execution_count": 57,
   "metadata": {},
   "outputs": [
    {
     "name": "stdout",
     "output_type": "stream",
     "text": [
      "Model: \"le_net_8\"\n",
      "_________________________________________________________________\n",
      " Layer (type)                Output Shape              Param #   \n",
      "=================================================================\n",
      " conv2d_21 (Conv2D)          (None, 28, 28, 6)         156       \n",
      "                                                                 \n",
      " average_pooling2d_14 (Avera  (None, 14, 14, 6)        0         \n",
      " gePooling2D)                                                    \n",
      "                                                                 \n",
      " conv2d_22 (Conv2D)          (None, 10, 10, 16)        2416      \n",
      "                                                                 \n",
      " average_pooling2d_15 (Avera  (None, 5, 5, 16)         0         \n",
      " gePooling2D)                                                    \n",
      "                                                                 \n",
      " conv2d_23 (Conv2D)          (None, 1, 1, 120)         48120     \n",
      "                                                                 \n",
      " flatten_7 (Flatten)         (None, 120)               0         \n",
      "                                                                 \n",
      " dense_14 (Dense)            (None, 84)                10164     \n",
      "                                                                 \n",
      " dense_15 (Dense)            (None, 10)                850       \n",
      "                                                                 \n",
      "=================================================================\n",
      "Total params: 61,706\n",
      "Trainable params: 61,706\n",
      "Non-trainable params: 0\n",
      "_________________________________________________________________\n"
     ]
    }
   ],
   "source": [
    "model=LeNet(10)\n",
    "\n",
    "model.summary()"
   ]
  },
  {
   "cell_type": "code",
   "execution_count": 58,
   "metadata": {},
   "outputs": [],
   "source": [
    "def makedir(path):\n",
    "    try:\n",
    "        os.makedirs(path)\n",
    "    except OSError:\n",
    "        if not os.path.isdir(path):\n",
    "            raise"
   ]
  },
  {
   "cell_type": "code",
   "execution_count": 59,
   "metadata": {},
   "outputs": [],
   "source": [
    "early_stopping= EarlyStopping(monitor='val_loss', patience=3)\n",
    "\n",
    "checkpoint = ModelCheckpoint(filepath='./LeNet-5/best_model_weights.h5', # 저장할 경로\n",
    "                                    monitor='val_loss',                                         # 모니터링 기준\n",
    "                                    save_best_only=True)\n",
    "\n",
    "callbacks = {\n",
    "    'early_stopping' : early_stopping, 'model_checkpoint':checkpoint\n",
    "}"
   ]
  },
  {
   "cell_type": "code",
   "execution_count": 60,
   "metadata": {},
   "outputs": [
    {
     "name": "stdout",
     "output_type": "stream",
     "text": [
      "Epoch 1/20\n",
      "1500/1500 [==============================] - 12s 8ms/step - loss: 0.2182 - accuracy: 0.9347 - val_loss: 0.0898 - val_accuracy: 0.9711\n",
      "Epoch 2/20\n",
      "1500/1500 [==============================] - 18s 12ms/step - loss: 0.0691 - accuracy: 0.9786 - val_loss: 0.0712 - val_accuracy: 0.9778\n",
      "Epoch 3/20\n",
      "1500/1500 [==============================] - 18s 12ms/step - loss: 0.0505 - accuracy: 0.9838 - val_loss: 0.0586 - val_accuracy: 0.9822\n",
      "Epoch 4/20\n",
      "1500/1500 [==============================] - 21s 14ms/step - loss: 0.0384 - accuracy: 0.9876 - val_loss: 0.0560 - val_accuracy: 0.9833\n",
      "Epoch 5/20\n",
      "1500/1500 [==============================] - 22s 14ms/step - loss: 0.0315 - accuracy: 0.9897 - val_loss: 0.0623 - val_accuracy: 0.9824\n",
      "Epoch 6/20\n",
      "1500/1500 [==============================] - 12s 8ms/step - loss: 0.0257 - accuracy: 0.9914 - val_loss: 0.0444 - val_accuracy: 0.9876\n",
      "Epoch 7/20\n",
      "1500/1500 [==============================] - 26s 17ms/step - loss: 0.0207 - accuracy: 0.9931 - val_loss: 0.0508 - val_accuracy: 0.9856\n",
      "Epoch 8/20\n",
      "1500/1500 [==============================] - 15s 10ms/step - loss: 0.0176 - accuracy: 0.9941 - val_loss: 0.0522 - val_accuracy: 0.9854\n",
      "Epoch 9/20\n",
      "1500/1500 [==============================] - 12s 8ms/step - loss: 0.0159 - accuracy: 0.9945 - val_loss: 0.0506 - val_accuracy: 0.9857\n"
     ]
    }
   ],
   "source": [
    "history=model.fit(x_train, y_train,\n",
    "          epochs=20,\n",
    "          validation_data=(x_val, y_val),\n",
    "          callbacks=callbacks\n",
    "          )"
   ]
  },
  {
   "cell_type": "code",
   "execution_count": 61,
   "metadata": {},
   "outputs": [
    {
     "data": {
      "image/png": "[encoded data removed]",
      "text/plain": [
       "<Figure size 640x480 with 1 Axes>"
      ]
     },
     "metadata": {},
     "output_type": "display_data"
    }
   ],
   "source": [
    "plt.plot(history.history['loss'])\n",
    "plt.plot(history.history['val_loss'])\n",
    "plt.xlabel('epoch')\n",
    "plt.ylabel('loss')\n",
    "plt.legend(['train','val'])\n",
    "plt.show()"
   ]
  },
  {
   "attachments": {},
   "cell_type": "markdown",
   "metadata": {},
   "source": [
    "## AlexNet 실습"
   ]
  },
  {
   "cell_type": "code",
   "execution_count": 75,
   "metadata": {},
   "outputs": [],
   "source": [
    "(X_train, y_train), (X_test, y_test) = cifar10.load_data()"
   ]
  },
  {
   "cell_type": "code",
   "execution_count": 76,
   "metadata": {},
   "outputs": [
    {
     "data": {
      "text/plain": [
       "((50000, 32, 32, 3), (50000, 1))"
      ]
     },
     "execution_count": 76,
     "metadata": {},
     "output_type": "execute_result"
    }
   ],
   "source": [
    "X_train.shape, y_train.shape"
   ]
  },
  {
   "cell_type": "code",
   "execution_count": 77,
   "metadata": {},
   "outputs": [],
   "source": [
    "y_train = to_categorical(y_train, 10)\n",
    "y_test = to_categorical(y_test, 10)"
   ]
  },
  {
   "cell_type": "code",
   "execution_count": 78,
   "metadata": {},
   "outputs": [],
   "source": [
    "model = Sequential()\n",
    "model.add(Resizing(227,227, interpolation='bilinear', input_shape=X_train.shape[1:]))\n",
    "model.add(Conv2D(96, (11,11), strides=(4,4), activation='relu', padding='same'))\n",
    "model.add(MaxPooling2D((3,3), strides=2))\n",
    "model.add(BatchNormalization())\n",
    "\n",
    "model.add(Conv2D(256, (5,5), strides=1, activation='relu', padding='same'))\n",
    "model.add(MaxPooling2D((2,2), strides=2))\n",
    "model.add(BatchNormalization())\n",
    "\n",
    "model.add(Conv2D(384, (3,3), strides=1, activation='relu', padding='same'))\n",
    "model.add(Conv2D(384, (3,3), strides=1, activation='relu', padding='same'))\n",
    "model.add(Conv2D(384, (3,3), strides=1, activation='relu', padding='same'))\n",
    "model.add(MaxPooling2D((3,3), strides=2))\n",
    "model.add(BatchNormalization())\n",
    "\n",
    "model.add(Flatten())\n",
    "model.add(Dense(4096, activation='relu'))\n",
    "model.add(Dropout(0.5))\n",
    "model.add(Dense(4096, activation='relu'))\n",
    "model.add(Dropout(0.5))\n",
    "model.add(Dense(10, activation='softmax'))"
   ]
  },
  {
   "cell_type": "code",
   "execution_count": 79,
   "metadata": {},
   "outputs": [],
   "source": [
    "early_stopping= EarlyStopping(monitor='val_loss', patience=3)\n",
    "\n",
    "checkpoint = ModelCheckpoint(filepath='./Alexnet/best_model_weights.h5', # 저장할 경로\n",
    "                                    monitor='val_loss',                                         # 모니터링 기준\n",
    "                                    save_best_only=True)\n",
    "\n",
    "callbacks = {\n",
    "    'early_stopping' : early_stopping, 'model_checkpoint':checkpoint\n",
    "}"
   ]
  },
  {
   "cell_type": "code",
   "execution_count": 80,
   "metadata": {},
   "outputs": [],
   "source": [
    "model.compile(loss='categorical_crossentropy', optimizer='adam', metrics='accuracy')"
   ]
  },
  {
   "cell_type": "code",
   "execution_count": 83,
   "metadata": {},
   "outputs": [
    {
     "name": "stdout",
     "output_type": "stream",
     "text": [
      "Epoch 1/2\n",
      "196/196 [==============================] - 2240s 11s/step - loss: 1.5100 - accuracy: 0.4486 - val_loss: 2.4792 - val_accuracy: 0.2905\n",
      "Epoch 2/2\n",
      "196/196 [==============================] - 2157s 11s/step - loss: 1.1894 - accuracy: 0.5774 - val_loss: 1.4479 - val_accuracy: 0.4907\n"
     ]
    }
   ],
   "source": [
    "history = model.fit(X_train, y_train, epochs=2, batch_size=256, validation_data=(X_test, y_test), callbacks=callbacks, verbose=1)"
   ]
  },
  {
   "cell_type": "code",
   "execution_count": 84,
   "metadata": {},
   "outputs": [
    {
     "data": {
      "image/png": "[encoded data removed]",
      "text/plain": [
       "<Figure size 640x480 with 1 Axes>"
      ]
     },
     "metadata": {},
     "output_type": "display_data"
    }
   ],
   "source": [
    "plt.plot(history.history['loss'])\n",
    "plt.plot(history.history['val_loss'])\n",
    "plt.xlabel('epoch')\n",
    "plt.ylabel('loss')\n",
    "plt.legend(['train','val'])\n",
    "plt.show()"
   ]
  },
  {
   "cell_type": "code",
   "execution_count": null,
   "metadata": {},
   "outputs": [],
   "source": []
  }
 ],
 "metadata": {
  "kernelspec": {
   "display_name": "tf",
   "language": "python",
   "name": "python3"
  },
  "language_info": {
   "codemirror_mode": {
    "name": "ipython",
    "version": 3
   },
   "file_extension": ".py",
   "mimetype": "text/x-python",
   "name": "python",
   "nbconvert_exporter": "python",
   "pygments_lexer": "ipython3",
   "version": "3.7.16"
  },
  "orig_nbformat": 4
 },
 "nbformat": 4,
 "nbformat_minor": 2
}
